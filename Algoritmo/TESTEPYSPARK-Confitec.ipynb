{
 "cells": [
  {
   "cell_type": "code",
   "execution_count": 6,
   "id": "97c2ed40",
   "metadata": {},
   "outputs": [
    {
     "name": "stdout",
     "output_type": "stream",
     "text": [
      "Matriz A:\n",
      "[[60 95 51 84]\n",
      " [68 64 15 18]\n",
      " [ 8 41 32 78]\n",
      " [28 26 39 22]]\n",
      "\n",
      "Matriz B:\n",
      "[[33 24 68 90]\n",
      " [79 62 74 90]\n",
      " [82 46 40 63]\n",
      " [45 29 45  7]]\n",
      "\n",
      "Produto das matrizes A e B:\n",
      "[[17447 12112 16930 17751]\n",
      " [ 9340  6812 10770 12951]\n",
      " [ 9637  6468  8368  6972]\n",
      " [ 7166  4716  6378  7471]]\n"
     ]
    }
   ],
   "source": [
    "import numpy as np\n",
    "\n",
    "ordem = 4\n",
    "\n",
    "# Matriz A com valores de 1 a 100\n",
    "matriz_a = np.random.randint(1, 100, (ordem, ordem))\n",
    "\n",
    "# Matriz B com valores de 1 a 100\n",
    "matriz_b = np.random.randint(1, 100, (ordem, ordem))\n",
    "\n",
    "\n",
    "# Calculando o produto das matrizes\n",
    "produto = np.matmul(matriz_a, matriz_b)\n",
    "\n",
    "\n",
    "print(\"Matriz A:\")\n",
    "print(matriz_a)\n",
    "print(\"\\nMatriz B:\")\n",
    "print(matriz_b)\n",
    "print(\"\\nProduto das matrizes A e B:\")\n",
    "print(produto)\n"
   ]
  }
 ],
 "metadata": {
  "kernelspec": {
   "display_name": "Python 3 (ipykernel)",
   "language": "python",
   "name": "python3"
  },
  "language_info": {
   "codemirror_mode": {
    "name": "ipython",
    "version": 3
   },
   "file_extension": ".py",
   "mimetype": "text/x-python",
   "name": "python",
   "nbconvert_exporter": "python",
   "pygments_lexer": "ipython3",
   "version": "3.10.9"
  }
 },
 "nbformat": 4,
 "nbformat_minor": 5
}
